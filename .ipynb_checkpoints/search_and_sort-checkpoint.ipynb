{
 "cells": [
  {
   "cell_type": "markdown",
   "metadata": {},
   "source": [
    "# Search and Sort Techniques."
   ]
  },
  {
   "cell_type": "markdown",
   "metadata": {},
   "source": [
    "## Binary search.\n"
   ]
  },
  {
   "cell_type": "markdown",
   "metadata": {},
   "source": [
    "Binary Search: Search a sorted array by repeatedly dividing the search interval in half.\n"
   ]
  },
  {
   "cell_type": "markdown",
   "metadata": {},
   "source": [
    "* Use the following sorted list of words to perform a binary search and answer the questions that follow.\n"
   ]
  },
  {
   "cell_type": "markdown",
   "metadata": {},
   "source": [
    "sorted_list = [ \"babka\", \"baklava\", \"cheesecake\", \"cupcake\", \"danish\", \"eclair\", \"funnelcake\", \"kringle\", \"lamington\", \"profiterole\", \"sopaipilla\", \"strudel\", \"tiramisu\", \"torte\", \"turnover\"]\n"
   ]
  },
  {
   "cell_type": "markdown",
   "metadata": {},
   "source": [
    "* Below we define a function binary_search and we use this function to find whether the strings \"doughnut and \"tiramisu\" are in the list which we have called sorted_list."
   ]
  },
  {
   "cell_type": "code",
   "execution_count": 7,
   "metadata": {},
   "outputs": [
    {
     "name": "stdout",
     "output_type": "stream",
     "text": [
      "Not in sorted_list\n",
      "12\n"
     ]
    }
   ],
   "source": [
    "def binary_search(sorted_list, val):\n",
    "\n",
    "    sorted_list_size = len(sorted_list) - 1\n",
    "\n",
    "    idx0 = 0\n",
    "    idxn = sorted_list_size\n",
    "# Find the middle most value\n",
    "\n",
    "    while idx0 <= idxn:\n",
    "        midval = (idx0 + idxn)// 2\n",
    "\n",
    "        if sorted_list[midval] == val:\n",
    "            return midval\n",
    "\n",
    "# Compare the value the middle most value\n",
    "        if val > sorted_list[midval]:\n",
    "            idx0 = midval + 1\n",
    "        else:\n",
    "            idxn = midval - 1\n",
    "\n",
    "    if idx0 > idxn:\n",
    "        return \"Not in sorted_list\"\n",
    "# Initialize the sorted_list\n",
    "sorted_list = [ \"babka\", \"baklava\", \"cheesecake\", \"cupcake\", \"danish\", \"eclair\", \"funnelcake\", \"kringle\", \"lamington\", \"profiterole\", \"sopaipilla\", \"strudel\", \"tiramisu\", \"torte\", \"turnover\"]\n",
    "\n",
    "\n",
    "# Print the search result\n",
    "print(binary_search(sorted_list, \"doughnut\"))\n",
    "print(binary_search(sorted_list, \"tiramisu\"))"
   ]
  },
  {
   "cell_type": "markdown",
   "metadata": {},
   "source": [
    "a) What sequence of 'middle' values are compared to the target when performing a binary search with target doughnut?\n"
   ]
  },
  {
   "cell_type": "markdown",
   "metadata": {},
   "source": [
    "Compare \"doughnut\" with the middle element \"kringle\" (index = 7)\n",
    "If \"doughnut\" matches with middle element, we we return the mid index.\n",
    "Else If \"doughnut\" is greater than the mid element, then \"doughnut\" can only lie in right half subarray after the mid element index(8 - 14). So we recur for right half. This is done by dividing the index (8 - 14) in haland comparing \"doughnut\" to the midvalue which would now be index 11 \"strudel\"\n",
    "If \"doughnut\" is greater than \"strudel\", the recur the for the right half( index 12 - 14)\n",
    "Else (\"doughnut\" is smaller) recur for the left half, index(0 - 7).\n",
    "should \"doughnut not be found on either right or left half, the \"doughnut\" is not in the list."
   ]
  },
  {
   "cell_type": "markdown",
   "metadata": {},
   "source": [
    "b) What sequence of 'middle' values are compared to the target when performing a binary search with target tiramisu?"
   ]
  },
  {
   "cell_type": "markdown",
   "metadata": {},
   "source": [
    "Compare \"tiramisu\" withe middle element \"kringle\" (index = 7)\n",
    "If \"tiramisu\" matches with middle element, we we return the mid index.\n",
    "Else If \"tiramisu\" is greater than the mid element, then \"tiramisu\" can only lie in right half subarray after the mid element index(8 - 14). So we recur for right half. This is done by dividing the index (8 - 14) in haland comparing \"tiramisu\" to the midvalue which would now be index 11 \"strudel\"\n",
    "If \"tiramisu\"(12) is greater than \"strudel\"(11), the recur the for the right half( index 12 - 14)\n",
    "If \"tiramisu\" matches with middle element(\"torte\" 13), we we return the mid index.\n",
    "Else (\"tiramisu\" is smaller) recur for the left half, index(12).\n",
    "We then find \"tiramisu\" at index 12"
   ]
  },
  {
   "cell_type": "markdown",
   "metadata": {},
   "source": [
    "# Bubble Sort"
   ]
  },
  {
   "cell_type": "markdown",
   "metadata": {},
   "source": [
    "Bubble Sort is the simplest sorting algorithm that works by repeatedly swapping the adjacent elements if they are in wrong order."
   ]
  },
  {
   "cell_type": "markdown",
   "metadata": {},
   "source": [
    "* a) show the series of steps taken by the Bubble Sort algorithm while sorting this list."
   ]
  },
  {
   "cell_type": "code",
   "execution_count": 9,
   "metadata": {},
   "outputs": [
    {
     "name": "stdout",
     "output_type": "stream",
     "text": [
      "[6, 8, 9, 10, 11, 14, 20, 60]\n"
     ]
    }
   ],
   "source": [
    "def bubblesort(list):\n",
    "\n",
    "# Swap the elements to arrange in order\n",
    "    for iter_num in range(len(list)-1,0,-1): #scan through ever-shortening list\n",
    "        for idx in range(iter_num):     #for each item in list,\n",
    "            if list[idx]>list[idx+1]:   #check it against its neighbour\n",
    "                temp = list[idx]        #and swap if item on left is bigger\n",
    "                list[idx] = list[idx+1]\n",
    "                list[idx+1] = temp\n",
    "                \n",
    "    return list\n",
    "\n",
    "unsorted_list = [9, 20, 6, 10, 14, 8, 60, 11]\n",
    "\n",
    "print(bubblesort(unsorted_list))"
   ]
  },
  {
   "cell_type": "markdown",
   "metadata": {},
   "source": [
    "* First Pass:"
   ]
  },
  {
   "cell_type": "markdown",
   "metadata": {},
   "source": [
    "list[] = 9 20 6 10 14 8 60 11"
   ]
  },
  {
   "cell_type": "markdown",
   "metadata": {},
   "source": [
    "(9 20 6 10 14 8 60 11) >> (9 20 6 10 14 8 60 11), Here, algorithm compares the first two elements, and since 9 < 20, no swap takes place.\n",
    "\n",
    "(9 20 6 10 14 8 60 11) >> (9 6 20 10 14 8 60 11), Here, algorithm compares the next two elements, and since 6 < 20, swap.\n",
    "\n",
    "(9 6 20 10 14 8 60 11) >> (9 6 10 20 14 8 60 11), Here, algorithm compares the next two elements, and since 10 < 20, swap\n",
    "\n",
    "(9 6 10 20 14 8 60 11), >> (9 6 10 14 20 8 60 11), Here, algorithm compares the next two elements, and since 14 < 20, swap\n",
    "\n",
    "(9 6 10 14 20 8 60 11), >> (9 6 10 14 8 20 60 11), Here, algorithm compares the next two elements, and since 8 < 20, swap\n",
    "\n",
    "(9 6 10 14 8 20 60 11), >> (9 6 10 14 8 20 60 11), Here, algorithm compares the next two elements, and since 20 < 60, no swap takes place\n",
    "\n",
    "(9 6 10 14 8 20 60 11), >> (9 6 10 14 8 20 11 60), Here, algorithm compares the next two elements, and since 11 < 60, swap \n"
   ]
  },
  {
   "cell_type": "markdown",
   "metadata": {},
   "source": [
    "* The steps in the first pass are repeated till the list is sorted."
   ]
  },
  {
   "cell_type": "code",
   "execution_count": null,
   "metadata": {},
   "outputs": [],
   "source": []
  },
  {
   "cell_type": "code",
   "execution_count": null,
   "metadata": {},
   "outputs": [],
   "source": []
  },
  {
   "cell_type": "markdown",
   "metadata": {},
   "source": [
    "# Selection Sort"
   ]
  },
  {
   "cell_type": "markdown",
   "metadata": {},
   "source": [
    "* b) show the series of steps taken by the Selection Sort algorithm while sorting this list."
   ]
  },
  {
   "cell_type": "code",
   "execution_count": null,
   "metadata": {},
   "outputs": [],
   "source": []
  },
  {
   "cell_type": "code",
   "execution_count": 1,
   "metadata": {},
   "outputs": [
    {
     "name": "stdout",
     "output_type": "stream",
     "text": [
      "[6, 8, 9, 10, 11, 14, 20, 60]\n"
     ]
    }
   ],
   "source": [
    "def selection_sort(input_list):\n",
    "\n",
    "    for idx in range(len(input_list)):\n",
    "\n",
    "        min_idx = idx\n",
    "        for j in range( idx +1, len(input_list)):\n",
    "            if input_list[min_idx] > input_list[j]:\n",
    "                min_idx = j\n",
    "# Swap the minimum value with the compared value\n",
    "\n",
    "        input_list[idx], input_list[min_idx] = input_list[min_idx], input_list[idx]\n",
    "\n",
    "    return input_list\n",
    "\n",
    "list = [9, 20, 6, 10, 14, 8, 60, 11]\n",
    "\n",
    "print(selection_sort(list))"
   ]
  },
  {
   "cell_type": "markdown",
   "metadata": {},
   "source": [
    "list[] = 9 20 6 10 14 8 60 11\n",
    "\n",
    "// Find the minimum element in list[0...7]\n",
    "// and place it at beginning  \n",
    "6 20 9 10 14 8 60 11\n",
    "\n",
    "// Find the minimum element in list[1...7]\n",
    "// and place it at beginning of list[1...7]\n",
    "6 8 9 10 14 20 60 11  \n",
    "\n",
    "// Find the minimum element in list[2...7]\n",
    "// and place it at beginning of list[2...7]\n",
    "6 8 9 10 14 20 60 11    \n",
    "\n",
    "// Find the minimum element in list[3...7]\n",
    "// and place it at beginning of list[3...7]\n",
    "6 8 9 10 14 20 60 11   \n",
    "\n",
    "// Find the minimum element in list[4...7]\n",
    "// and place it at beginning of list[4...7]\n",
    "6 8 9 10 11 20 60 14  \n",
    "\n",
    "// Find the minimum element in list[5...7]\n",
    "// and place it at beginning of list[5...7]\n",
    "6 8 9 10 11 14 60 20   \n",
    "\n",
    "// Find the minimum element in list[6...7]\n",
    "// and place it at beginning of list[6...7]\n",
    "6 8 9 10 11 14 20 60  \n",
    "\n",
    "Now the list is sorted."
   ]
  },
  {
   "cell_type": "code",
   "execution_count": null,
   "metadata": {},
   "outputs": [],
   "source": []
  },
  {
   "cell_type": "markdown",
   "metadata": {},
   "source": [
    "The three search algorithms have varying run times, with the unsorted sequential search being the least efficient and the binary search being the most efficient (among the three).\n",
    "\n"
   ]
  },
  {
   "cell_type": "markdown",
   "metadata": {},
   "source": [
    "* a) Modify the code for the seq_search.py (for unsorted lists), seq_search_ordered.py and binary_search.py to count the number of elements checked during the search."
   ]
  },
  {
   "cell_type": "markdown",
   "metadata": {},
   "source": [
    "### seq_search.py"
   ]
  },
  {
   "cell_type": "code",
   "execution_count": 2,
   "metadata": {},
   "outputs": [
    {
     "name": "stdout",
     "output_type": "stream",
     "text": [
      "True\n",
      "False\n"
     ]
    }
   ],
   "source": [
    "def linear_search(values, search_for):\n",
    "    search_at = 0\n",
    "    search_res = False\n",
    "\n",
    "# Match the value with each data element\n",
    "    while search_at < len(values) and search_res is False:\n",
    "        if values[search_at] == search_for:\n",
    "            search_res = True\n",
    "        else:\n",
    "            search_at = search_at + 1\n",
    "\n",
    "    return search_res\n",
    "\n",
    "list = [64, 34, 25, 12, 22, 11, 90]\n",
    "print(linear_search(list, 12)) #should return True\n",
    "print(linear_search(list, 91)) #should return False"
   ]
  },
  {
   "cell_type": "code",
   "execution_count": null,
   "metadata": {},
   "outputs": [],
   "source": []
  },
  {
   "cell_type": "markdown",
   "metadata": {},
   "source": [
    "### Seq_search_ordered. "
   ]
  },
  {
   "cell_type": "code",
   "execution_count": 3,
   "metadata": {},
   "outputs": [
    {
     "name": "stdout",
     "output_type": "stream",
     "text": [
      "False\n",
      "True\n"
     ]
    }
   ],
   "source": [
    "def orderedSequentialSearch(alist, item):\n",
    "    pos = 0\n",
    "    found = False\n",
    "    stop = False\n",
    "\n",
    "    while pos < len(alist) and not found and not stop:\n",
    "        if alist[pos] == item:\n",
    "            found = True\n",
    "        else:\n",
    "            if alist[pos] > item:\n",
    "                stop = True\n",
    "            else:\n",
    "                pos = pos+1\n",
    "\n",
    "    return found\n",
    "\n",
    "testlist = [0, 1, 2, 8, 13, 17, 19, 32, 42,]\n",
    "print(orderedSequentialSearch(testlist, 3)) #return False\n",
    "print(orderedSequentialSearch(testlist, 13)) #return True"
   ]
  },
  {
   "cell_type": "markdown",
   "metadata": {},
   "source": [
    "### Binary_search "
   ]
  },
  {
   "cell_type": "code",
   "execution_count": 4,
   "metadata": {},
   "outputs": [
    {
     "name": "stdout",
     "output_type": "stream",
     "text": [
      "5\n",
      "Not in list\n"
     ]
    }
   ],
   "source": [
    "def bsearch(list, val):\n",
    "\n",
    "    list_size = len(list) - 1\n",
    "\n",
    "    idx0 = 0\n",
    "    idxn = list_size\n",
    "# Find the middle most value\n",
    "\n",
    "    while idx0 <= idxn:\n",
    "        midval = (idx0 + idxn)// 2\n",
    "\n",
    "        if list[midval] == val:\n",
    "            return midval\n",
    "\n",
    "# Compare the value the middle most value\n",
    "        if val > list[midval]:\n",
    "            idx0 = midval + 1\n",
    "        else:\n",
    "            idxn = midval - 1\n",
    "\n",
    "    if idx0 > idxn:\n",
    "        return \"Not in list\"\n",
    "# Initialize the sorted list\n",
    "list = [2,7,19,34,53,72]\n",
    "\n",
    "# Print the search result\n",
    "print(bsearch(list,72)) #should return index 5\n",
    "print(bsearch(list,11)) #should return Not in list"
   ]
  },
  {
   "cell_type": "code",
   "execution_count": null,
   "metadata": {},
   "outputs": [],
   "source": []
  },
  {
   "cell_type": "code",
   "execution_count": null,
   "metadata": {},
   "outputs": [],
   "source": []
  },
  {
   "cell_type": "markdown",
   "metadata": {},
   "source": [
    "b) Using your instrumented code for the three search algorithms, perform the following searches, and report the number of elements checked by each algorithm for each search (i.e. you will report nine results in total - for each of the 3 searches below, you will report the results from the 3 different search algorithms)."
   ]
  },
  {
   "cell_type": "code",
   "execution_count": null,
   "metadata": {},
   "outputs": [],
   "source": []
  },
  {
   "cell_type": "code",
   "execution_count": null,
   "metadata": {},
   "outputs": [],
   "source": []
  },
  {
   "cell_type": "code",
   "execution_count": null,
   "metadata": {},
   "outputs": [],
   "source": []
  },
  {
   "cell_type": "code",
   "execution_count": null,
   "metadata": {},
   "outputs": [],
   "source": []
  },
  {
   "cell_type": "code",
   "execution_count": null,
   "metadata": {},
   "outputs": [],
   "source": []
  }
 ],
 "metadata": {
  "kernelspec": {
   "display_name": "Python 3",
   "language": "python",
   "name": "python3"
  },
  "language_info": {
   "codemirror_mode": {
    "name": "ipython",
    "version": 3
   },
   "file_extension": ".py",
   "mimetype": "text/x-python",
   "name": "python",
   "nbconvert_exporter": "python",
   "pygments_lexer": "ipython3",
   "version": "3.7.3"
  }
 },
 "nbformat": 4,
 "nbformat_minor": 2
}
