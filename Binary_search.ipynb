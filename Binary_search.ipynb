{
 "cells": [
  {
   "cell_type": "markdown",
   "metadata": {},
   "source": [
    "# Binary search. "
   ]
  },
  {
   "cell_type": "markdown",
   "metadata": {},
   "source": [
    "### Overview "
   ]
  },
  {
   "cell_type": "markdown",
   "metadata": {},
   "source": [
    "Binary Search: Search a sorted array by repeatedly dividing the search interval in half. "
   ]
  },
  {
   "cell_type": "markdown",
   "metadata": {},
   "source": [
    "* Use the following sorted list of words to perform a binary search and answer the questions that follow."
   ]
  },
  {
   "cell_type": "markdown",
   "metadata": {},
   "source": [
    "* Below we define a function binary_search and we use this function to find whether the strings \"doughnut and \"tiramisu\" are in the list which we have called sorted_list."
   ]
  },
  {
   "cell_type": "code",
   "execution_count": 12,
   "metadata": {},
   "outputs": [
    {
     "name": "stdout",
     "output_type": "stream",
     "text": [
      "Not in sorted_list\n",
      "12\n"
     ]
    }
   ],
   "source": [
    "def binary_search(sorted_list, val):\n",
    "\n",
    "    sorted_list_size = len(sorted_list) - 1\n",
    "\n",
    "    idx0 = 0\n",
    "    idxn = sorted_list_size\n",
    "# Find the middle most value\n",
    "\n",
    "    while idx0 <= idxn:\n",
    "        midval = (idx0 + idxn)// 2\n",
    "\n",
    "        if sorted_list[midval] == val:\n",
    "            return midval\n",
    "\n",
    "# Compare the value the middle most value\n",
    "        if val > sorted_list[midval]:\n",
    "            idx0 = midval + 1\n",
    "        else:\n",
    "            idxn = midval - 1\n",
    "\n",
    "    if idx0 > idxn:\n",
    "        return \"Not in sorted_list\"\n",
    "# Initialize the sorted_list\n",
    "sorted_list = [ \"babka\", \"baklava\", \"cheesecake\", \"cupcake\", \"danish\", \"eclair\", \"funnelcake\", \"kringle\", \"lamington\", \"profiterole\", \"sopaipilla\", \"strudel\", \"tiramisu\", \"torte\", \"turnover\"]\n",
    "\n",
    "\n",
    "# Print the search result\n",
    "print(binary_search(sorted_list, \"doughnut\"))\n",
    "print(binary_search(sorted_list, \"tiramisu\"))"
   ]
  },
  {
   "cell_type": "markdown",
   "metadata": {},
   "source": [
    "a)  What sequence of 'middle' values are compared to the target when performing a binary search with target doughnut?\n",
    "\n"
   ]
  },
  {
   "cell_type": "markdown",
   "metadata": {},
   "source": [
    "'middle' values = (first(index0) + last(index-1)) /2\n",
    "\n"
   ]
  },
  {
   "cell_type": "markdown",
   "metadata": {},
   "source": [
    "1. Compare \"doughnut\" withe middle element \"kringle\" (index = 7)\n",
    "2. If \"doughnut\" matches with middle element, we we return the mid index.\n",
    "3. Else If \"doughnut\" is greater than the mid element, then \"doughnut\" can only lie in right half subarray after the mid element index(8 - 14). So we recur for right half. This is done by dividing the index (8 - 14) in haland comparing \"doughnut\" to the midvalue which would now be index  11 \"strudel\"\n",
    "4. If \"doughnut\" is greater than \"strudel\", the recur the for the right half( index 12 - 14) \n",
    "5. Else (\"doughnut\" is smaller) recur for the left half, index(0 - 7). \n",
    "6. should \"doughnut not be found on either right or left half, the \"doughnut\" is not in the list."
   ]
  },
  {
   "cell_type": "code",
   "execution_count": null,
   "metadata": {},
   "outputs": [],
   "source": []
  },
  {
   "cell_type": "markdown",
   "metadata": {},
   "source": [
    "b)  What sequence of 'middle' values are compared to the target when performing a binary search with target tiramisu?"
   ]
  },
  {
   "cell_type": "markdown",
   "metadata": {},
   "source": [
    "1. Compare \"tiramisu\" withe middle element \"kringle\" (index = 7)\n",
    "2. If \"tiramisu\" matches with middle element, we we return the mid index.\n",
    "3. Else If \"tiramisu\" is greater than the mid element, then \"tiramisu\" can only lie in right half subarray after the mid element index(8 - 14). So we recur for right half. This is done by dividing the index (8 - 14) in haland comparing \"tiramisu\" to the midvalue which would now be index  11 \"strudel\"\n",
    "4. If \"tiramisu\"(12) is greater than \"strudel\"(11), the recur the for the right half( index 12 - 14)\n",
    "5. If \"tiramisu\" matches with middle element(\"torte\" 13), we we return the mid index.\n",
    "5. Else (\"tiramisu\" is smaller) recur for the left half, index(12). \n",
    "6. We then find \"tiramisu\" at index 12"
   ]
  },
  {
   "cell_type": "markdown",
   "metadata": {},
   "source": [
    "# Bubble Sort"
   ]
  },
  {
   "cell_type": "markdown",
   "metadata": {},
   "source": [
    "Bubble Sort is the simplest sorting algorithm that works by repeatedly swapping the adjacent elements if they are in wrong order."
   ]
  },
  {
   "cell_type": "markdown",
   "metadata": {},
   "source": [
    "a) show the series of steps taken by the Bubble Sort algorithm while sorting this list."
   ]
  },
  {
   "cell_type": "code",
   "execution_count": 14,
   "metadata": {},
   "outputs": [
    {
     "name": "stdout",
     "output_type": "stream",
     "text": [
      "[6, 8, 9, 10, 11, 14, 20, 60]\n"
     ]
    }
   ],
   "source": [
    "def bubblesort(list):\n",
    "\n",
    "# Swap the elements to arrange in order\n",
    "    for iter_num in range(len(list)-1,0,-1): #scan through ever-shortening list\n",
    "        for idx in range(iter_num):     #for each item in list,\n",
    "            if list[idx]>list[idx+1]:   #check it against its neighbour\n",
    "                temp = list[idx]        #and swap if item on left is bigger\n",
    "                list[idx] = list[idx+1]\n",
    "                list[idx+1] = temp\n",
    "                \n",
    "    return list\n",
    "\n",
    "unsorted_list = [9, 20, 6, 10, 14, 8, 60, 11]\n",
    "\n",
    "print(bubblesort(unsorted_list))"
   ]
  },
  {
   "cell_type": "markdown",
   "metadata": {},
   "source": [
    "* First Pass:"
   ]
  },
  {
   "cell_type": "markdown",
   "metadata": {},
   "source": [
    "list[] = 9 20 6 10 14 8 60 11\n",
    "\n",
    "(9 20 6 10 14 8 60 11) >> (9 20 6 10 14 8 60 11), Here, algorithm compares the first two elements, and since 9 < 20, no swap takes place.\n",
    "\n",
    "(9 20 6 10 14 8 60 11) >> (9 6 20 10 14 8 60 11), Here, algorithm compares the next two elements, and since 6 < 20, swap.\n",
    "\n",
    "(9 6 20 10 14 8 60 11) >> (9 6 10 20 14 8 60 11), Here, algorithm compares the next two elements, and since 10 < 20, swap\n",
    "\n",
    "(9 6 10 20 14 8 60 11), >> (9 6 10 14 20 8 60 11), Here, algorithm compares the next two elements, and since 14 < 20, swap\n",
    "\n",
    "(9 6 10 14 20 8 60 11), >> (9 6 10 14 8 20 60 11), Here, algorithm compares the next two elements, and since 8 < 20, swap\n",
    "\n",
    "(9 6 10 14 8 20 60 11), >> (9 6 10 14 8 20 60 11), Here, algorithm compares the next two elements, and since 20 < 60, no swap takes place\n",
    "\n",
    "(9 6 10 14 8 20 60 11), >> (9 6 10 14 8 20 11 60), Here, algorithm compares the next two elements, and since 11 < 60, swap \n"
   ]
  },
  {
   "cell_type": "markdown",
   "metadata": {},
   "source": [
    "* The steps in the first pass are repeated till the list is sorted."
   ]
  },
  {
   "cell_type": "code",
   "execution_count": null,
   "metadata": {},
   "outputs": [],
   "source": []
  },
  {
   "cell_type": "code",
   "execution_count": null,
   "metadata": {},
   "outputs": [],
   "source": []
  },
  {
   "cell_type": "code",
   "execution_count": null,
   "metadata": {},
   "outputs": [],
   "source": []
  },
  {
   "cell_type": "code",
   "execution_count": null,
   "metadata": {},
   "outputs": [],
   "source": []
  },
  {
   "cell_type": "code",
   "execution_count": null,
   "metadata": {},
   "outputs": [],
   "source": []
  }
 ],
 "metadata": {
  "kernelspec": {
   "display_name": "Python 3",
   "language": "python",
   "name": "python3"
  },
  "language_info": {
   "codemirror_mode": {
    "name": "ipython",
    "version": 3
   },
   "file_extension": ".py",
   "mimetype": "text/x-python",
   "name": "python",
   "nbconvert_exporter": "python",
   "pygments_lexer": "ipython3",
   "version": "3.7.3"
  }
 },
 "nbformat": 4,
 "nbformat_minor": 2
}
