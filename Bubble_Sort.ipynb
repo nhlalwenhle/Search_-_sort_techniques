{
 "cells": [
  {
   "cell_type": "markdown",
   "metadata": {},
   "source": [
    "# Bubble Sort"
   ]
  },
  {
   "cell_type": "markdown",
   "metadata": {},
   "source": [
    "### Overview."
   ]
  },
  {
   "cell_type": "markdown",
   "metadata": {},
   "source": [
    "Bubble Sort is the simplest sorting algorithm that works by repeatedly swapping the adjacent elements if they are in wrong order."
   ]
  },
  {
   "cell_type": "markdown",
   "metadata": {},
   "source": [
    "* a) show the series of steps taken by the Bubble Sort algorithm while sorting this list."
   ]
  },
  {
   "cell_type": "code",
   "execution_count": 10,
   "metadata": {},
   "outputs": [
    {
     "name": "stdout",
     "output_type": "stream",
     "text": [
      "[6, 8, 9, 10, 11, 14, 20, 60]\n"
     ]
    }
   ],
   "source": [
    "def bubblesort(list):\n",
    "\n",
    "# Swap the elements to arrange in order\n",
    "    for iter_num in range(len(list)-1,0,-1): #scan through ever-shortening list\n",
    "        for idx in range(iter_num):     #for each item in list,\n",
    "            if list[idx]>list[idx+1]:   #check it against its neighbour\n",
    "                temp = list[idx]        #and swap if item on left is bigger\n",
    "                list[idx] = list[idx+1]\n",
    "                list[idx+1] = temp\n",
    "                \n",
    "    return list\n",
    "\n",
    "unsorted_list = [9, 20, 6, 10, 14, 8, 60, 11]\n",
    "\n",
    "print(bubblesort(unsorted_list))"
   ]
  },
  {
   "cell_type": "markdown",
   "metadata": {},
   "source": [
    "* First Pass:"
   ]
  },
  {
   "cell_type": "markdown",
   "metadata": {},
   "source": [
    "list[] = 9 20 6 10 14 8 60 11\n",
    "\n",
    "(9 20 6 10 14 8 60 11) >> (9 20 6 10 14 8 60 11), Here, algorithm compares the first two elements, and since 9 < 20, no swap takes place.\n",
    "\n",
    "(9 20 6 10 14 8 60 11) >> (9 6 20 10 14 8 60 11), Here, algorithm compares the next two elements, and since 6 < 20, swap.\n",
    "\n",
    "(9 6 20 10 14 8 60 11) >> (9 6 10 20 14 8 60 11), Here, algorithm compares the next two elements, and since 10 < 20, swap\n",
    "\n",
    "(9 6 10 20 14 8 60 11), >> (9 6 10 14 20 8 60 11), Here, algorithm compares the next two elements, and since 14 < 20, swap\n",
    "\n",
    "(9 6 10 14 20 8 60 11), >> (9 6 10 14 8 20 60 11), Here, algorithm compares the next two elements, and since 8 < 20, swap\n",
    "\n",
    "(9 6 10 14 8 20 60 11), >> (9 6 10 14 8 20 60 11), Here, algorithm compares the next two elements, and since 20 < 60, no swap takes place\n",
    "\n",
    "(9 6 10 14 8 20 60 11), >> (9 6 10 14 8 20 11 60), Here, algorithm compares the next two elements, and since 11 < 60, swap \n"
   ]
  },
  {
   "cell_type": "markdown",
   "metadata": {},
   "source": [
    "* The steps in the first pass are repeated till the list is sorted."
   ]
  },
  {
   "cell_type": "markdown",
   "metadata": {},
   "source": [
    "# Selection Sort"
   ]
  },
  {
   "cell_type": "code",
   "execution_count": 11,
   "metadata": {},
   "outputs": [
    {
     "name": "stdout",
     "output_type": "stream",
     "text": [
      "[6, 8, 9, 10, 11, 14, 20, 60]\n"
     ]
    }
   ],
   "source": [
    "def selection_sort(input_list):\n",
    "\n",
    "    for idx in range(len(input_list)):\n",
    "\n",
    "        min_idx = idx\n",
    "        for j in range( idx +1, len(input_list)):\n",
    "            if input_list[min_idx] > input_list[j]:\n",
    "                min_idx = j\n",
    "# Swap the minimum value with the compared value\n",
    "\n",
    "        input_list[idx], input_list[min_idx] = input_list[min_idx], input_list[idx]\n",
    "\n",
    "    return input_list\n",
    "\n",
    "list = [9, 20, 6, 10, 14, 8, 60, 11]\n",
    "\n",
    "print(selection_sort(list))"
   ]
  },
  {
   "cell_type": "markdown",
   "metadata": {},
   "source": [
    "b) show the series of steps taken by the Selection Sort algorithm while sorting this list."
   ]
  },
  {
   "cell_type": "markdown",
   "metadata": {},
   "source": [
    "list[] = 9 20 6 10 14 8 60 11\n",
    "\n",
    "// Find the minimum element in list[0...7]\n",
    "// and place it at beginning  \n",
    "6 20 9 10 14 8 60 11\n",
    "\n",
    "// Find the minimum element in list[1...7]\n",
    "// and place it at beginning of list[1...7]\n",
    "6 8 9 10 14 20 60 11  \n",
    "\n",
    "// Find the minimum element in list[2...7]\n",
    "// and place it at beginning of list[2...7]\n",
    "6 8 9 10 14 20 60 11    \n",
    "\n",
    "// Find the minimum element in list[3...7]\n",
    "// and place it at beginning of list[3...7]\n",
    "6 8 9 10 14 20 60 11   \n",
    "\n",
    "// Find the minimum element in list[4...7]\n",
    "// and place it at beginning of list[4...7]\n",
    "6 8 9 10 11 20 60 14  \n",
    "\n",
    "// Find the minimum element in list[5...7]\n",
    "// and place it at beginning of list[5...7]\n",
    "6 8 9 10 11 14 60 20   \n",
    "\n",
    "// Find the minimum element in list[6...7]\n",
    "// and place it at beginning of list[6...7]\n",
    "6 8 9 10 11 14 20 60  \n",
    "\n",
    "Now the list is sorted."
   ]
  },
  {
   "cell_type": "code",
   "execution_count": null,
   "metadata": {},
   "outputs": [],
   "source": []
  },
  {
   "cell_type": "code",
   "execution_count": null,
   "metadata": {},
   "outputs": [],
   "source": []
  },
  {
   "cell_type": "code",
   "execution_count": null,
   "metadata": {},
   "outputs": [],
   "source": []
  }
 ],
 "metadata": {
  "kernelspec": {
   "display_name": "Python 3",
   "language": "python",
   "name": "python3"
  },
  "language_info": {
   "codemirror_mode": {
    "name": "ipython",
    "version": 3
   },
   "file_extension": ".py",
   "mimetype": "text/x-python",
   "name": "python",
   "nbconvert_exporter": "python",
   "pygments_lexer": "ipython3",
   "version": "3.7.3"
  }
 },
 "nbformat": 4,
 "nbformat_minor": 2
}
